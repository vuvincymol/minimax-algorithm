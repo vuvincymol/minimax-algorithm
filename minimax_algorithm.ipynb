{
  "nbformat": 4,
  "nbformat_minor": 0,
  "metadata": {
    "colab": {
      "provenance": [],
      "authorship_tag": "ABX9TyOnDqrQEYMjDWSqDU7COM2O",
      "include_colab_link": true
    },
    "kernelspec": {
      "name": "python3",
      "display_name": "Python 3"
    },
    "language_info": {
      "name": "python"
    }
  },
  "cells": [
    {
      "cell_type": "markdown",
      "metadata": {
        "id": "view-in-github",
        "colab_type": "text"
      },
      "source": [
        "<a href=\"https://colab.research.google.com/github/vuvincymol/minimax-algorithm/blob/main/minimax_algorithm.ipynb\" target=\"_parent\"><img src=\"https://colab.research.google.com/assets/colab-badge.svg\" alt=\"Open In Colab\"/></a>"
      ]
    },
    {
      "cell_type": "code",
      "execution_count": null,
      "metadata": {
        "id": "zUIlWg623jPU"
      },
      "outputs": [],
      "source": []
    },
    {
      "cell_type": "code",
      "execution_count": 1,
      "metadata": {
        "colab": {
          "base_uri": "https://localhost:8080/"
        },
        "id": "4X1VYFAEiV9e",
        "outputId": "9ab1a74f-4918-40ae-82be-aea90890d8d2"
      },
      "outputs": [
        {
          "output_type": "stream",
          "name": "stdout",
          "text": [
            "The optimal value is : 5\n"
          ]
        }
      ],
      "source": [
        "MAX, MIN = 1000, -1000\n",
        "\n",
        "def minimax(depth, nodeIndex, maximizingPlayer, values, alpha, beta):\n",
        "  if depth == 3:\n",
        "    return values[nodeIndex]\n",
        "  if maximizingPlayer:\n",
        "    best = MIN\n",
        "    for i in range(0, 2):\n",
        "      val = minimax(depth + 1, nodeIndex * 2 + i,False, values, alpha, beta)\n",
        "      best = max(best, val)\n",
        "      alpha = max(alpha, best)\n",
        "      if beta<=alpha:\n",
        "        # Return before breaking the loop\n",
        "        return best\n",
        "        #break #The break is no longer needed here\n",
        "  else:\n",
        "    best = MAX\n",
        "    for i in range(0, 2):\n",
        "      val = minimax(depth + 1, nodeIndex * 2 + i,True, values, alpha, beta)\n",
        "      best = min(best, val)\n",
        "      beta = min(beta, best)\n",
        "      if beta <= alpha:\n",
        "        # Return before breaking the loop\n",
        "        return best\n",
        "        #break #The break is no longer needed here\n",
        "  #If none of the conditions are true we will always return best.\n",
        "  return best #Added a return here as in all cases we need to return something\n",
        "\n",
        "if __name__ == \"__main__\":\n",
        "  values = [3, 5, 6, 9, 1, 2, 0, -1]\n",
        "  print(\"The optimal value is :\", minimax(0, 0, True, values, MIN, MAX))"
      ]
    }
  ]
}